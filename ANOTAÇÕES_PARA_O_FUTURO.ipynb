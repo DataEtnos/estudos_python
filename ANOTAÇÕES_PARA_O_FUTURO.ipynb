{
  "nbformat": 4,
  "nbformat_minor": 0,
  "metadata": {
    "colab": {
      "provenance": [],
      "authorship_tag": "ABX9TyOSP3umkLhrNWMCId0LceoN",
      "include_colab_link": true
    },
    "kernelspec": {
      "name": "python3",
      "display_name": "Python 3"
    },
    "language_info": {
      "name": "python"
    }
  },
  "cells": [
    {
      "cell_type": "markdown",
      "metadata": {
        "id": "view-in-github",
        "colab_type": "text"
      },
      "source": [
        "<a href=\"https://colab.research.google.com/github/DataEtnos/estudos_python/blob/main/ANOTA%C3%87%C3%95ES_PARA_O_FUTURO.ipynb\" target=\"_parent\"><img src=\"https://colab.research.google.com/assets/colab-badge.svg\" alt=\"Open In Colab\"/></a>"
      ]
    },
    {
      "cell_type": "markdown",
      "source": [
        "Base para entender e montar uma DRE : https://www.treasy.com.br/blog/dre-demonstrativo-de-resultados-do-exercicio/\n"
      ],
      "metadata": {
        "id": "0YQZXnBC2qI9"
      }
    },
    {
      "cell_type": "code",
      "source": [],
      "metadata": {
        "id": "3vxbbZqX21nU"
      },
      "execution_count": null,
      "outputs": []
    },
    {
      "cell_type": "code",
      "source": [],
      "metadata": {
        "id": "FOq0zBWO2ssI"
      },
      "execution_count": null,
      "outputs": []
    }
  ]
}